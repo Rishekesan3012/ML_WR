{
 "cells": [
  {
   "cell_type": "markdown",
   "metadata": {},
   "source": [
    "# Weather Impact on Food Delivery - Exploratory Data Analysis\n",
    "\n",
    "This notebook focuses on:\n",
    "1. Visualizing weather patterns\n",
    "2. Analyzing delivery metrics\n",
    "3. Understanding weather-delivery relationships\n",
    "4. Identifying key patterns and insights"
   ]
  },
  {
   "cell_type": "code",
   "execution_count": null,
   "metadata": {},
   "source": [
    "import pandas as pd\n",
    "import numpy as np\n",
    "import matplotlib.pyplot as plt\n",
    "import seaborn as sns\n",
    "import plotly.express as px\n",
    "import plotly.graph_objects as go\n",
    "from plotly.subplots import make_subplots\n",
    "\n",
    "# Set style for better visualizations\n",
    "plt.style.use('seaborn')\n",
    "sns.set_palette('husl')"
   ]
  },
  {
   "cell_type": "code",
   "execution_count": null,
   "metadata": {},
   "source": [
    "# Load the processed data\n",
    "df = pd.read_csv('../data/processed_data.csv')\n",
    "df['date'] = pd.to_datetime(df['date'])"
   ]
  },
  {
   "cell_type": "markdown",
   "metadata": {},
   "source": [
    "## 1. Weather Pattern Analysis"
   ]
  },
  {
   "cell_type": "code",
   "execution_count": null,
   "metadata": {},
   "source": [
    "# Weather conditions distribution\n",
    "plt.figure(figsize=(12, 6))\n",
    "sns.countplot(data=df, x='weather_condition')\n",
    "plt.title('Distribution of Weather Conditions')\n",
    "plt.xticks(rotation=45)\n",
    "plt.show()\n",
    "\n",
    "# Temperature distribution by city\n",
    "fig = px.box(df, x='city', y='temperature', title='Temperature Distribution by City')\n",
    "fig.show()\n",
    "\n",
    "# Weather patterns over time\n",
    "fig = px.line(df.groupby(['date', 'city'])['temperature'].mean().reset_index(),\n",
    "              x='date', y='temperature', color='city',\n",
    "              title='Temperature Trends Over Time')\n",
    "fig.show()"
   ]
  },
  {
   "cell_type": "markdown",
   "metadata": {},
   "source": [
    "## 2. Delivery Metrics Analysis"
   ]
  },
  {
   "cell_type": "code",
   "execution_count": null,
   "metadata": {},
   "source": [
    "# Orders by weather condition\n",
    "plt.figure(figsize=(12, 6))\n",
    "sns.boxplot(data=df, x='weather_condition', y='num_orders')\n",
    "plt.title('Number of Orders by Weather Condition')\n",
    "plt.xticks(rotation=45)\n",
    "plt.show()\n",
    "\n",
    "# Delivery time analysis\n",
    "fig = make_subplots(rows=1, cols=2,\n",
    "                    subplot_titles=('Average Delivery Time by Weather',\n",
    "                                   'Cancellation Rate by Weather'))\n",
    "\n",
    "fig.add_trace(\n",
    "    go.Box(x=df['weather_condition'], y=df['avg_delivery_time'],\n",
    "           name='Delivery Time'),\n",
    "    row=1, col=1\n",
    ")\n",
    "\n",
    "fig.add_trace(\n",
    "    go.Box(x=df['weather_condition'], y=df['cancellation_rate'],\n",
    "           name='Cancellation Rate'),\n",
    "    row=1, col=2\n",
    ")\n",
    "\n",
    "fig.update_layout(height=500, width=1000, showlegend=False)\n",
    "fig.show()"
   ]
  },
  {
   "cell_type": "markdown",
   "metadata": {},
   "source": [
    "## 3. Weather-Delivery Relationships"
   ]
  },
  {
   "cell_type": "code",
   "execution_count": null,
   "metadata": {},
   "source": [
    "# Temperature vs Orders\n",
    "plt.figure(figsize=(10, 6))\n",
    "sns.scatterplot(data=df, x='temperature', y='num_orders', hue='city', alpha=0.6)\n",
    "plt.title('Temperature vs Number of Orders')\n",
    "plt.show()\n",
    "\n",
    "# Weather impact on delivery metrics\n",
    "metrics = ['num_orders', 'avg_delivery_time', 'cancellation_rate']\n",
    "fig = make_subplots(rows=len(metrics), cols=1,\n",
    "                    subplot_titles=[f'Weather Category vs {metric.replace(\"_\", \" \").title()}'\n",
    "                                   for metric in metrics])\n",
    "\n",
    "for i, metric in enumerate(metrics, 1):\n",
    "    fig.add_trace(\n",
    "        go.Box(x=df['weather_category'], y=df[metric],\n",
    "               name=metric),\n",
    "        row=i, col=1\n",
    "    )\n",
    "\n",
    "fig.update_layout(height=800, showlegend=False)\n",
    "fig.show()"
   ]
  },
  {
   "cell_type": "markdown",
   "metadata": {},
   "source": [
    "## 4. City-Specific Analysis"
   ]
  },
  {
   "cell_type": "code",
   "execution_count": null,
   "metadata": {},
   "source": [
    "# City performance comparison\n",
    "city_metrics = df.groupby('city').agg({\n",
    "    'num_orders': 'mean',\n",
    "    'avg_delivery_time': 'mean',\n",
    "    'cancellation_rate': 'mean',\n",
    "    'temperature': 'mean',\n",
    "    'humidity': 'mean',\n",
    "    'wind_speed': 'mean'\n",
    "}).round(2)\n",
    "\n",
    "# Create a heatmap of city metrics\n",
    "plt.figure(figsize=(12, 8))\n",
    "sns.heatmap(city_metrics, annot=True, cmap='YlOrRd')\n",
    "plt.title('City Performance Metrics')\n",
    "plt.show()\n",
    "\n",
    "# Weather impact by city\n",
    "fig = px.scatter(df, x='temperature', y='num_orders',\n",
    "                color='city', facet_col='weather_category',\n",
    "                title='Weather Impact on Orders by City')\n",
    "fig.show()"
   ]
  },
  {
   "cell_type": "markdown",
   "metadata": {},
   "source": [
    "## 5. Key Findings\n",
    "\n",
    "1. Weather Impact on Order Volume:\n",
    "   - Analyze the relationship between weather conditions and number of orders\n",
    "   - Identify weather thresholds that significantly affect ordering patterns\n",
    "\n",
    "2. Delivery Performance:\n",
    "   - Compare delivery times across different weather conditions\n",
    "   - Analyze cancellation rates in relation to weather severity\n",
    "\n",
    "3. City-Specific Patterns:\n",
    "   - Identify cities most affected by weather conditions\n",
    "   - Compare performance metrics across different locations\n",
    "\n",
    "4. Seasonal Trends:\n",
    "   - Analyze ordering patterns across seasons\n",
    "   - Identify peak delivery periods and weather-related challenges"
   ]
  }
 ],
 "metadata": {
  "kernelspec": {
   "display_name": "Python 3",
   "language": "python",
   "name": "python3"
  },
  "language_info": {
   "codemirror_mode": {
    "name": "ipython",
    "version": 3
   },
   "file_extension": ".py",
   "mimetype": "text/x-python",
   "name": "python",
   "nbconvert_exporter": "python",
   "pygments_lexer": "ipython3",
   "version": "3.8.0"
  }
 },
 "nbformat": 4,
 "nbformat_minor": 4
}
