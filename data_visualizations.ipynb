{
 "cells": [
  {
   "cell_type": "markdown",
   "metadata": {},
   "source": [
    "# Weather Food Delivery Data Visualizations\n",
    "\n",
    "This notebook explores 10 insightful visualizations from our master delivery dataset."
   ]
  },
  {
   "cell_type": "code",
   "execution_count": null,
   "metadata": {},
   "outputs": [],
   "source": [
    "import pandas as pd\n",
    "import matplotlib.pyplot as plt\n",
    "import seaborn as sns\n",
    "\n",
    "# Load the data\n",
    "df = pd.read_csv('data/master_delivery_data.csv')\n",
    "\n",
    "# Set up the plotting style\n",
    "plt.style.use('seaborn')\n",
    "plt.figure(figsize=(15, 10))"
   ]
  },
  {
   "cell_type": "markdown",
   "metadata": {},
   "source": [
    "## 1. Cuisine Distribution Across Cities"
   ]
  },
  {
   "cell_type": "code",
   "execution_count": null,
   "metadata": {},
   "outputs": [],
   "source": [
    "# Cuisine Distribution\n",
    "plt.figure(figsize=(15, 6))\n",
    "cuisine_counts = df['cuisine'].str.split(';', expand=True).stack().value_counts()\n",
    "cuisine_counts.head(15).plot(kind='bar')\n",
    "plt.title('Top 15 Cuisines in the Dataset', fontsize=15)\n",
    "plt.xlabel('Cuisine Type', fontsize=12)\n",
    "plt.ylabel('Number of Restaurants', fontsize=12)\n",
    "plt.xticks(rotation=45, ha='right')\n",
    "plt.tight_layout()\n",
    "plt.show()"
   ]
  },
  {
   "cell_type": "markdown",
   "metadata": {},
   "source": [
    "## 2. Weather Impact on Restaurant Services"
   ]
  },
  {
   "cell_type": "code",
   "execution_count": null,
   "metadata": {},
   "outputs": [],
   "source": [
    "# Weather Impact on Delivery and Takeaway Services\n",
    "plt.figure(figsize=(15, 6))\n",
    "\n",
    "# Categorize temperature\n",
    "df['temp_category'] = pd.cut(df['temperature_F'], \n",
    "                              bins=[-float('inf'), 32, 50, 70, 90, float('inf')],\n",
    "                              labels=['Freezing', 'Cold', 'Mild', 'Warm', 'Hot'])\n",
    "\n",
    "# Delivery services by temperature\n",
    "delivery_by_temp = df.groupby('temp_category')['has_delivery'].mean()\n",
    "takeaway_by_temp = df.groupby('temp_category')['has_takeaway'].mean()\n",
    "\n",
    "plt.subplot(1, 2, 1)\n",
    "delivery_by_temp.plot(kind='bar', color='blue', alpha=0.7)\n",
    "plt.title('Delivery Services by Temperature', fontsize=12)\n",
    "plt.xlabel('Temperature Category', fontsize=10)\n",
    "plt.ylabel('Proportion of Restaurants with Delivery', fontsize=10)\n",
    "plt.xticks(rotation=45)\n",
    "\n",
    "plt.subplot(1, 2, 2)\n",
    "takeaway_by_temp.plot(kind='bar', color='green', alpha=0.7)\n",
    "plt.title('Takeaway Services by Temperature', fontsize=12)\n",
    "plt.xlabel('Temperature Category', fontsize=10)\n",
    "plt.ylabel('Proportion of Restaurants with Takeaway', fontsize=10)\n",
    "plt.xticks(rotation=45)\n",
    "\n",
    "plt.tight_layout()\n",
    "plt.show()"
   ]
  },
  {
   "cell_type": "markdown",
   "metadata": {},
   "source": [
    "## 3. Geospatial Distribution of Restaurants"
   ]
  },
  {
   "cell_type": "code",
   "execution_count": null,
   "metadata": {},
   "outputs": [],
   "source": [
    "# Geospatial Distribution\n",
    "plt.figure(figsize=(15, 8))\n",
    "plt.scatter(df['longitude'], df['latitude'], \n",
    "            c=df['temperature_F'], \n",
    "            cmap='coolwarm', \n",
    "            alpha=0.6, \n",
    "            s=50)\n",
    "plt.colorbar(label='Temperature (°F)')\n",
    "plt.title('Restaurant Locations Colored by Temperature', fontsize=15)\n",
    "plt.xlabel('Longitude', fontsize=12)\n",
    "plt.ylabel('Latitude', fontsize=12)\n",
    "plt.tight_layout()\n",
    "plt.show()"
   ]
  },
  {
   "cell_type": "markdown",
   "metadata": {},
   "source": [
    "## 4. Humidity and Wind Speed Correlation"
   ]
  },
  {
   "cell_type": "code",
   "execution_count": null,
   "metadata": {},
   "outputs": [],
   "source": [
    "# Humidity vs Wind Speed\n",
    "plt.figure(figsize=(12, 6))\n",
    "sns.scatterplot(data=df, x='humidity', y='wind_speed', hue='temperature_F', palette='viridis')\n",
    "plt.title('Humidity vs Wind Speed (Colored by Temperature)', fontsize=15)\n",
    "plt.xlabel('Humidity (%)', fontsize=12)\n",
    "plt.ylabel('Wind Speed', fontsize=12)\n",
    "plt.tight_layout()\n",
    "plt.show()"
   ]
  },
  {
   "cell_type": "markdown",
   "metadata": {},
   "source": [
    "## 5. Restaurant Opening Hours Distribution"
   ]
  },
  {
   "cell_type": "code",
   "execution_count": null,
   "metadata": {},
   "outputs": [],
   "source": [
    "# Opening Hours Distribution\n",
    "plt.figure(figsize=(12, 6))\n",
    "df['has_opening_hours'].value_counts().plot(kind='pie', autopct='%1.1f%%')\n",
    "plt.title('Proportion of Restaurants with Defined Opening Hours', fontsize=15)\n",
    "plt.ylabel('')\n",
    "plt.tight_layout()\n",
    "plt.show()"
   ]
  },
  {
   "cell_type": "markdown",
   "metadata": {},
   "source": [
    "## 6. Precipitation Impact on Restaurant Services"
   ]
  },
  {
   "cell_type": "code",
   "execution_count": null,
   "metadata": {},
   "outputs": [],
   "source": [
    "# Precipitation Impact\n",
    "plt.figure(figsize=(15, 6))\n",
    "\n",
    "# Categorize precipitation\n",
    "df['precip_category'] = pd.cut(df['precipitation'], \n",
    "                                bins=[-float('inf'), 0.1, 0.5, 1, float('inf')],\n",
    "                                labels=['No Rain', 'Light Rain', 'Moderate Rain', 'Heavy Rain'])\n",
    "\n",
    "delivery_by_precip = df.groupby('precip_category')['has_delivery'].mean()\n",
    "takeaway_by_precip = df.groupby('precip_category')['has_takeaway'].mean()\n",
    "\n",
    "plt.subplot(1, 2, 1)\n",
    "delivery_by_precip.plot(kind='bar', color='blue', alpha=0.7)\n",
    "plt.title('Delivery Services by Precipitation', fontsize=12)\n",
    "plt.xlabel('Precipitation Category', fontsize=10)\n",
    "plt.ylabel('Proportion of Restaurants with Delivery', fontsize=10)\n",
    "plt.xticks(rotation=45)\n",
    "\n",
    "plt.subplot(1, 2, 2)\n",
    "takeaway_by_precip.plot(kind='bar', color='green', alpha=0.7)\n",
    "plt.title('Takeaway Services by Precipitation', fontsize=12)\n",
    "plt.xlabel('Precipitation Category', fontsize=10)\n",
    "plt.ylabel('Proportion of Restaurants with Takeaway', fontsize=10)\n",
    "plt.xticks(rotation=45)\n",
    "\n",
    "plt.tight_layout()\n",
    "plt.show()"
   ]
  },
  {
   "cell_type": "markdown",
   "metadata": {},
   "source": [
    "## 7. Cuisine Diversity by City"
   ]
  },
  {
   "cell_type": "code",
   "execution_count": null,
   "metadata": {},
   "outputs": [],
   "source": [
    "# Cuisine Diversity by City\n",
    "plt.figure(figsize=(15, 6))\n",
    "\n",
    "# Count unique cuisines per city\n",
    "city_cuisine_diversity = df.groupby('city')['cuisine'].apply(lambda x: len(set(';'.join(x).split(';'))))\n",
    "city_cuisine_diversity.sort_values(ascending=False).head(10).plot(kind='bar')\n",
    "plt.title('Top 10 Cities by Cuisine Diversity', fontsize=15)\n",
    "plt.xlabel('City', fontsize=12)\n",
    "plt.ylabel('Number of Unique Cuisines', fontsize=12)\n",
    "plt.xticks(rotation=45, ha='right')\n",
    "plt.tight_layout()\n",
    "plt.show()"
   ]
  },
  {
   "cell_type": "markdown",
   "metadata": {},
   "source": [
    "## 8. Temperature Distribution"
   ]
  },
  {
   "cell_type": "code",
   "execution_count": null,
   "metadata": {},
   "outputs": [],
   "source": [
    "# Temperature Distribution\n",
    "plt.figure(figsize=(12, 6))\n",
    "sns.histplot(data=df, x='temperature_F', kde=True)\n",
    "plt.title('Distribution of Temperatures', fontsize=15)\n",
    "plt.xlabel('Temperature (°F)', fontsize=12)\n",
    "plt.ylabel('Frequency', fontsize=12)\n",
    "plt.tight_layout()\n",
    "plt.show()"
   ]
  },
  {
   "cell_type": "markdown",
   "metadata": {},
   "source": [
    "## 9. Restaurant Services Correlation"
   ]
  },
  {
   "cell_type": "code",
   "execution_count": null,
   "metadata": {},
   "outputs": [],
   "source": [
    "# Correlation of Restaurant Services\n",
    "plt.figure(figsize=(10, 8))\n",
    "services_corr = df[['has_delivery', 'has_takeaway', 'has_opening_hours']].corr()\n",
    "sns.heatmap(services_corr, annot=True, cmap='coolwarm', center=0)\n",
    "plt.title('Correlation Between Restaurant Services', fontsize=15)\n",
    "plt.tight_layout()\n",
    "plt.show()"
   ]
  },
  {
   "cell_type": "markdown",
   "metadata": {},
   "source": [
    "## 10. Weather Conditions Box Plot"
   ]
  },
  {
   "cell_type": "code",
   "execution_count": null,
   "metadata": {},
   "outputs": [],
   "source": [
    "# Weather Conditions Box Plot\n",
    "plt.figure(figsize=(15, 6))\n",
    "\n",
    "plt.subplot(1, 3, 1)\n",
    "sns.boxplot(data=df, y='temperature_F')\n",
    "plt.title('Temperature Distribution', fontsize=10)\n",
    "plt.ylabel('Temperature (°F)', fontsize=8)\n",
    "\n",
    "plt.subplot(1, 3, 2)\n",
    "sns.boxplot(data=df, y='humidity')\n",
    "plt.title('Humidity Distribution', fontsize=10)\n",
    "plt.ylabel('Humidity (%)', fontsize=8)\n",
    "\n",
    "plt.subplot(1, 3, 3)\n",
    "sns.boxplot(data=df, y='wind_speed')\n",
    "plt.title('Wind Speed Distribution', fontsize=10)\n",
    "plt.ylabel('Wind Speed', fontsize=8)\n",
    "\n",
    "plt.tight_layout()\n",
    "plt.show()"
   ]
  }
 ],
 "metadata": {
  "kernelspec": {
   "display_name": "Python 3",
   "language": "python",
   "name": "python3"
  },
  "language_info": {
   "name": "python",
   "version": "3.8.5"
  }
 },
 "nbformat": 4,
 "nbformat_minor": 4
}
